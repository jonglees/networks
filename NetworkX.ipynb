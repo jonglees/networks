{
 "cells": [
  {
   "cell_type": "code",
   "execution_count": null,
   "id": "2f012cb8",
   "metadata": {},
   "outputs": [],
   "source": [
    "# import modules for use in the notebook\n",
    "\n",
    "# handling www based requests (like APIs)\n",
    "import urllib as ul\n",
    "\n",
    "# standard Python data handling modules\n",
    "import pandas as pd\n",
    "import numpy as np\n",
    "import matplotlib.pyplot as plt\n",
    "import json\n",
    "\n",
    "# working with networks\n",
    "import networkx as nx\n",
    "\n",
    "'''NetworkX - Network Analysis in Python - [https://networkx.org/documentation/stable/index.html](https://networkx.org/documentation/stable/index.html)'''"
   ]
  },
  {
   "cell_type": "code",
   "execution_count": null,
   "id": "8c2a3873",
   "metadata": {},
   "outputs": [],
   "source": [
    "#create a graph\n",
    "G = nx.Graph()\n",
    "\n",
    "#add nodes to the graph\n",
    "G.add_node(\"A\")\n",
    "G.add_nodes_from([\"B\", \"C\", \"D\", \"E\"])\n",
    "\n",
    "#add edges to connect the nodes\n",
    "G.add_edge(\"A\", \"B\")\n",
    "G.add_edges_from([(\"A\", \"C\"), (\"B\", \"D\"), (\"C\", \"D\"), (\"D\", \"E\")])\n",
    "\n",
    "#draw the graph\n",
    "plt.figure(figsize=(6, 6))\n",
    "nx.draw(G, with_labels=True, node_color=\"skyblue\", edge_color=\"gray\", node_size=2000, font_size=15)\n",
    "plt.title(\"Simple NetworkX Graph\")\n",
    "plt.show()"
   ]
  },
  {
   "cell_type": "markdown",
   "id": "25b628d2",
   "metadata": {},
   "source": [
    "##### <font color='darkblue'>Node Degree</font>\n",
    "\n",
    "Node degree is simply the number of connections a node has. Nodes with higher degree are often called `hub` nodes because they have many connections to other members of the network."
   ]
  },
  {
   "cell_type": "code",
   "execution_count": null,
   "id": "c854567e",
   "metadata": {},
   "outputs": [],
   "source": [
    "#sort the genes (node names) by degree\n",
    "sorted_list = sorted(G.degree(), key=lambda item: item[1] , reverse=True)\n",
    "\n",
    "# print out the top10 using prettytable\n",
    "from prettytable import PrettyTable\n",
    "x = PrettyTable()\n",
    "x.field_names = [\"Gene\",\"Degree\"]\n",
    "for gene in sorted_list[:10]:\n",
    "    x.add_row(gene)\n",
    "print(x)"
   ]
  },
  {
   "cell_type": "markdown",
   "id": "57304098",
   "metadata": {},
   "source": [
    "##### <font color='darkblue'>Closeness Centrality</font>\n",
    "This is a measure of how close a node is to the centre of the network. The closer a node is to the centre the shorter its path to all other nodes and hence its more likely to be representative of the network"
   ]
  },
  {
   "cell_type": "code",
   "execution_count": null,
   "id": "3335e553",
   "metadata": {},
   "outputs": [],
   "source": [
    "# sort the genes (node names) by proximity to center\n",
    "sorted_list = sorted(nx.closeness_centrality(G).items(), key=lambda item: item[1] , reverse=True) \n",
    "\n",
    "# print out the top10 using prettytable\n",
    "from prettytable import PrettyTable\n",
    "x = PrettyTable()\n",
    "x.field_names = [\"Gene\",\"Closeness\"]\n",
    "for gene in sorted_list[:10]:\n",
    "    x.add_row(gene)\n",
    "print(x)"
   ]
  },
  {
   "cell_type": "code",
   "execution_count": null,
   "id": "ef6d1cc1",
   "metadata": {},
   "outputs": [],
   "source": [
    "# lets generate a graph with 5 clusters so we can play with clustering algorithms\n",
    "\n",
    "# Parameters\n",
    "num_clusters = 5             # Number of clusters\n",
    "nodes_per_cluster = 20       # Number of nodes per cluster\n",
    "p_intra = 0.8                # Probability of edge within clusters\n",
    "p_inter = 0.05               # Probability of edge between clusters\n",
    "\n",
    "# define the sizes of each cluster\n",
    "sizes = [nodes_per_cluster] * num_clusters\n",
    "\n",
    "# define the connection probabilities matrix\n",
    "# p_intra is the probability within clusters, p_inter is between clusters\n",
    "probs = [[p_intra if i == j else p_inter for j in range(num_clusters)] for i in range(num_clusters)]\n",
    "\n",
    "# generate the graph using the stochastic block model\n",
    "G = nx.stochastic_block_model(sizes, probs, seed=42)\n",
    "\n",
    "# draw the graph\n",
    "plt.figure(figsize=(10, 10))\n",
    "pos = nx.spring_layout(G)\n",
    "nx.draw(G, pos, node_color=\"green\", with_labels=True, node_size=1000, font_size=12, width=0.5)\n",
    "plt.title(\"Generated Community Graph\");"
   ]
  },
  {
   "cell_type": "markdown",
   "id": "55dfc741",
   "metadata": {},
   "source": [
    "##### <font color='darkblue'>Clustering Coefficient</font>\n",
    "The clustering coefficient is a measure which combines centrality and degree. It measures the number of triangles a node can form ('the friend of my friend is my friend'). If a node has more common friends with other nodes it more likely to representative of the network"
   ]
  },
  {
   "cell_type": "code",
   "execution_count": null,
   "id": "5a91ab78",
   "metadata": {},
   "outputs": [],
   "source": [
    "# sort the genes (node names) by clustering coefficient\n",
    "sorted_list = sorted(nx.clustering(G).items(), key=lambda item: item[1] , reverse=True)\n",
    "\n",
    "# print out the top10 using prettytable\n",
    "from prettytable import PrettyTable\n",
    "x = PrettyTable()\n",
    "x.field_names = [\"Gene\",\"Clustering\"]\n",
    "for gene in sorted_list[:5]:\n",
    "    x.add_row(gene)\n",
    "print(x)"
   ]
  },
  {
   "cell_type": "markdown",
   "metadata": {},
   "source": [
    "##### <font color='darkblue'>Clustering the Network</font>"
   ]
  },
  {
   "cell_type": "code",
   "execution_count": null,
   "metadata": {},
   "outputs": [],
   "source": [
    "# we're going to cluster the networkx modularity clustering algorithm\n",
    "communities = nx.algorithms.community.modularity_max.greedy_modularity_communities(G)\n",
    "\n",
    "# print the number of communities\n",
    "print('The network has '+str(len(communities))+' communities.\\n')\n",
    "\n",
    "# create sub-grpahs for each community\n",
    "subgraphs = []\n",
    "for community in communities:\n",
    "    subgraphs.append(G.subgraph(community))\n",
    "    \n",
    "# print the number of nodes in each community\n",
    "for i, subgraph in enumerate(subgraphs):\n",
    "    print('Community '+str(i+1)+' has '+str(subgraph.number_of_nodes())+' nodes.')"
   ]
  },
  {
   "cell_type": "markdown",
   "metadata": {},
   "source": [
    "##### <font color='darkblue'>Plot the Graph with Clusters Coloured</font>"
   ]
  },
  {
   "cell_type": "code",
   "execution_count": null,
   "metadata": {},
   "outputs": [],
   "source": [
    "# create a dict with the gene_id as key and community membership list as value\n",
    "communityDict = dict()\n",
    "\n",
    "# loop through the communities\n",
    "for i, community in enumerate(communities):\n",
    "    # loop through the diseases in the community\n",
    "    for node_id in community:\n",
    "        # add the disease and community to the dictionary\n",
    "        communityDict[node_id] = i\n",
    "\n",
    "# plot the graph with the communities coloured\n",
    "# create a list as long as the number of communities in the graph, use a pallette of colours and generate a list of colours\n",
    "communityColours = plt.cm.tab20.colors[:len(communities)]\n",
    "\n",
    "# create a list of the node colours\n",
    "nodeColours = [communityColours[communityDict[node]] for node in G.nodes()]\n",
    "\n",
    "# create a list of the node labels\n",
    "nodeLabels = {node:node for node in G.nodes()}\n",
    "\n",
    "# set the figure size\n",
    "plt.figure(figsize=(10,10))\n",
    "\n",
    "# choose a layout\n",
    "pos = nx.spring_layout(G)\n",
    "nx.draw(G, pos, node_color=nodeColours, with_labels=True, node_size=1000, font_size=12, width=0.5)\n",
    "plt.title(\"Coloured Community Graph\");"
   ]
  }
 ],
 "metadata": {
  "kernelspec": {
   "display_name": "bio1dev",
   "language": "python",
   "name": "python3"
  },
  "language_info": {
   "codemirror_mode": {
    "name": "ipython",
    "version": 3
   },
   "file_extension": ".py",
   "mimetype": "text/x-python",
   "name": "python",
   "nbconvert_exporter": "python",
   "pygments_lexer": "ipython3",
   "version": "3.11.5"
  }
 },
 "nbformat": 4,
 "nbformat_minor": 5
}
